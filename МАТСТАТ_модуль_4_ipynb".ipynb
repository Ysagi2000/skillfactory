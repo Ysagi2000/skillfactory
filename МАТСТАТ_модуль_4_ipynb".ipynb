{
  "cells": [
    {
      "cell_type": "markdown",
      "metadata": {
        "id": "view-in-github",
        "colab_type": "text"
      },
      "source": [
        "<a href=\"https://colab.research.google.com/github/Ysagi2000/skillfactory/blob/main/%D0%9C%D0%90%D0%A2%D0%A1%D0%A2%D0%90%D0%A2_%D0%BC%D0%BE%D0%B4%D1%83%D0%BB%D1%8C_4_ipynb%22.ipynb\" target=\"_parent\"><img src=\"https://colab.research.google.com/assets/colab-badge.svg\" alt=\"Open In Colab\"/></a>"
      ]
    },
    {
      "cell_type": "markdown",
      "id": "e5c0f0e1-1ce1-4d98-b7fe-a7ab438f1260",
      "metadata": {
        "id": "e5c0f0e1-1ce1-4d98-b7fe-a7ab438f1260"
      },
      "source": [
        "Задание 1 (на сопоставление)"
      ]
    },
    {
      "cell_type": "code",
      "execution_count": 4,
      "id": "237f3145-8a79-4809-8e28-ac3b84dc5653",
      "metadata": {
        "id": "237f3145-8a79-4809-8e28-ac3b84dc5653",
        "colab": {
          "base_uri": "https://localhost:8080/",
          "height": 36
        },
        "outputId": "02b693a2-9702-472b-ac2f-4200a0da54e1"
      },
      "outputs": [
        {
          "output_type": "execute_result",
          "data": {
            "text/plain": [
              "'ответ: 1 - E, 2 - В, 3 - F, 4 - G, 5 - A'"
            ],
            "application/vnd.google.colaboratory.intrinsic+json": {
              "type": "string"
            }
          },
          "metadata": {},
          "execution_count": 4
        }
      ],
      "source": [
        "\"Ответ: 1 - E, 2 - В, 3 - F, 4 - G, 5 - A\""
      ]
    },
    {
      "cell_type": "markdown",
      "id": "e8eecee9-8ad7-4f85-9dfa-a58fa415b076",
      "metadata": {
        "id": "e8eecee9-8ad7-4f85-9dfa-a58fa415b076"
      },
      "source": [
        "Задание 2 (про порошок)"
      ]
    },
    {
      "cell_type": "markdown",
      "source": [
        "Для проверки гипотезы о среднем значении используем однообразный z-тест.\n",
        "\n",
        "**Нулевая гипотеза** (H0):\n",
        "μ = 3.00 кг\n",
        "\n",
        "**Альтернативная гипотеза** (H1):\n",
        "μ ≠ 3.00 кг"
      ],
      "metadata": {
        "id": "EOruCFiGoSHr"
      },
      "id": "EOruCFiGoSHr"
    },
    {
      "cell_type": "code",
      "source": [
        "import numpy as np\n",
        "from scipy import stats\n",
        "\n",
        "sample_mean = 3.005\n",
        "population_mean = 3\n",
        "population_std = 0.015\n",
        "sample_size = 50\n",
        "alpha = 0.05\n",
        "# Расчет z-оценки\n",
        "z_score = (sample_mean-population_mean)/(population_std/np.sqrt(50))\n",
        "print('z-оценка :',z_score)\n",
        "\n",
        "# Принятие решения на основе критического значения z\n",
        "# Расчет критической z-оценки\n",
        "z_critical = stats.norm.ppf(1-alpha/2)\n",
        "print('Критическая z-оценка :',z_critical)\n",
        "if z_score >  z_critical:\n",
        "    print(\"Отклонить нулевую гипотезу\")\n",
        "else:\n",
        "    print(\"Нельзя отклонить нулевую гипотезу\")\n",
        "\n",
        "# Принятие решения на основе p-значения\n",
        "# P-Value : вероятность получить значение меньше, чем z-оценка\n",
        "p_value = 1-stats.norm.cdf(z_score)\n",
        "print('p-value :',p_value)\n",
        "if p_value <  alpha:\n",
        "    print(\"Отклонить нулевую гипотезу\")\n",
        "else:\n",
        "    print(\"Нельзя отклонить нулевую гипотезу\")"
      ],
      "metadata": {
        "colab": {
          "base_uri": "https://localhost:8080/"
        },
        "id": "D7PlM9WdoRvv",
        "outputId": "e609a503-bced-4f6a-b3ee-2796feb3bd4c"
      },
      "id": "D7PlM9WdoRvv",
      "execution_count": 5,
      "outputs": [
        {
          "output_type": "stream",
          "name": "stdout",
          "text": [
            "z-оценка : 2.3570226039551083\n",
            "Критическая z-оценка : 1.959963984540054\n",
            "Отклонить нулевую гипотезу\n",
            "p-value : 0.009211062727050745\n",
            "Отклонить нулевую гипотезу\n"
          ]
        }
      ]
    },
    {
      "cell_type": "markdown",
      "source": [
        "**Выводы:**\n",
        "Поскольку\n",
        "z ≈ 2.36, а 2.36 больше чем 1.96, мы отклоняем нулевую гипотезу.\n",
        "\n",
        "Таким образом, образец предоставляет достаточные доказательства для того, чтобы утверждать, что истинное среднее значение не равно 3.00 кг, и, следовательно, дозатор требует настройки."
      ],
      "metadata": {
        "id": "X-faYrAJpIHO"
      },
      "id": "X-faYrAJpIHO"
    },
    {
      "cell_type": "markdown",
      "id": "17ad34a0-cbb3-482a-99d4-253f0b70f05f",
      "metadata": {
        "id": "17ad34a0-cbb3-482a-99d4-253f0b70f05f"
      },
      "source": [
        "Задание 3 (про двигатели)"
      ]
    },
    {
      "cell_type": "markdown",
      "source": [
        "Для того чтобы проверить, есть ли статистически значимая разница между средними прочностными характеристиками двух веществ, можно использовать t-тест для независимых выборок.\n",
        "\n",
        "У нас есть следующие данные:\n",
        "\n",
        "**Для вещества 1:**\n",
        "\n",
        "Размер выборки (n1) = 15\n",
        "Средняя прочность (M1) = 90 кг*мм⁻²\n",
        "Стандартное отклонение (SD1) = 2.3 кг*мм⁻²\n",
        "\n",
        "**Для вещества 2:**\n",
        "\n",
        "Размер выборки (n2) = 10\n",
        "Средняя прочность (M2) = 88 кг*мм⁻²\n",
        "Стандартное отклонение (SD2) = 2.3 кг*мм⁻²\n",
        "\n",
        "**Исходные гипотезы:**\n",
        "\n",
        "H0: Средние прочностные характеристики не отличаются (M1 = M2)\n",
        "\n",
        "H1: Средние прочностные характеристики отличаются (M1 ≠ M2)"
      ],
      "metadata": {
        "id": "488evaNpsmiR"
      },
      "id": "488evaNpsmiR"
    },
    {
      "cell_type": "code",
      "source": [
        "num = 15\n",
        "num_mean = 90\n",
        "num_std = 2.3\n",
        "num_two = 10\n",
        "num_two_mean = 88\n",
        "num_two_std = 2.2\n",
        "alpha = 0.05\n",
        "# найдем несмещенные стандартные отклонения\n",
        "num_std_correct = num_std * np.sqrt(num/(num-1))\n",
        "n2_std_corr = num_two_std * np.sqrt(num_two/(num_two-1))\n",
        "\n",
        "# посчитаем статистики, с учетом неравенства дисперсий\n",
        "t_score, p_value = stats.ttest_ind_from_stats(num_mean, num_std_correct, num, num_two_mean, num_std_correct, num_two, equal_var=False)\n",
        "\n",
        "# рассчитаем приведенное количество степеней свободы\n",
        "v = (num_std**2/num + num_two_std**2/num_two)**2/(num_std**4/(num**2*(num-1)) + num_two_std**4/(num_two**2*(num_two-1)))\n",
        "\n",
        "# для данного количества степеней свободы рассчитаем критическое значение статистики\n",
        "t_critical = stats.t.ppf(1 - alpha/2, df = v)\n",
        "\n",
        "if np.abs(t_score) > t_critical:\n",
        "    print(\"Отклонить нулевую гипотезу\")\n",
        "else:\n",
        "    print(\"Нельзя отклонить нулевую гипотезу\")\n",
        "\n",
        "if p_value < alpha:\n",
        "    print(\"Отклонить нулевую гипотезу\")\n",
        "else:\n",
        "    print(\"Нельзя отклонить нулевую гипотезу\")\n",
        "print(f\" {t_score:.4f}\\n {t_critical:.4f}\\n {p_value:.4f}\\n\")"
      ],
      "metadata": {
        "colab": {
          "base_uri": "https://localhost:8080/"
        },
        "id": "oor79COYuC_n",
        "outputId": "b79b8272-d670-4c48-bec6-7e3a181a90d0"
      },
      "id": "oor79COYuC_n",
      "execution_count": 12,
      "outputs": [
        {
          "output_type": "stream",
          "name": "stdout",
          "text": [
            "Нельзя отклонить нулевую гипотезу\n",
            "Нельзя отклонить нулевую гипотезу\n",
            " 2.0578\n",
            " 2.0856\n",
            " 0.0533\n",
            "\n"
          ]
        }
      ]
    },
    {
      "cell_type": "markdown",
      "source": [
        "Сравнение с критическим значением:\n",
        "на уровне значимости5% (уровне доверия 95%) нет оснований отвергнуть нулевую гипотезу в пользу альтернативы.\n",
        "\n",
        "Критическое значение для t с 23 df примерно равно 2.069.\n",
        "\n",
        "**Заключение**:\n",
        "Так как рассчитанная t-статистика (≈ 2.14) больше критического значения (≈ 2.069), мы отклоняем нулевую гипотезу.\n",
        "\n",
        "Таким образом, можно сделать вывод, что на уровне значимости 5% существует статистически значимая разница между средними прочностными характеристиками веществ."
      ],
      "metadata": {
        "id": "86gDoyjVwSOZ"
      },
      "id": "86gDoyjVwSOZ"
    },
    {
      "cell_type": "markdown",
      "id": "ad515879-cb2d-43eb-93ee-d3f6bb4b49d4",
      "metadata": {
        "id": "ad515879-cb2d-43eb-93ee-d3f6bb4b49d4"
      },
      "source": [
        "Задание 4 (про токи)"
      ]
    },
    {
      "cell_type": "code",
      "source": [
        "\n",
        "x1 = np.array([80.1, 82.3, 84.1, 82.6, 85.3, 81.3, 83.2, 81.7, 82.2, 81.4])\n",
        "x2 = np.array([80.7, 81.3, 84.6, 81.7, 86.3, 84.3, 83.7, 84.7, 82.8, 84.4, 85.2, 84.9])\n",
        "\n",
        "n1 = len(x1)\n",
        "n2 = len(x2)\n",
        "alpha = 0.05\n",
        "\n",
        "# посчитаем статистики\n",
        "res = stats.ttest_ind(x1, x2)\n",
        "t_score = res[0]\n",
        "p_value = res[1]\n",
        "\n",
        "# рассчитаем критическое значение статистики\n",
        "t_critical = stats.t.ppf(1 - alpha/2, df = res.df)\n",
        "\n",
        "if np.abs(t_score) > t_critical:\n",
        "    print(\"Отклонить нулевую гипотезу\")\n",
        "else:\n",
        "    print(\"Нельзя отклонить нулевую гипотезу\")\n",
        "\n",
        "if p_value < alpha:\n",
        "    print(\"Отклонить нулевую гипотезу\")\n",
        "else:\n",
        "    print(\"Нельзя отклонить нулевую гипотезу\")\n",
        "print(f\" {t_score:.4f},\\n {t_critical:.4f},\\n {p_value:.4f},\\n {int(res.df)}\")"
      ],
      "metadata": {
        "colab": {
          "base_uri": "https://localhost:8080/"
        },
        "id": "GtRdRY4dySXB",
        "outputId": "9c566e6a-2ceb-493c-9626-eec5f8c2766e"
      },
      "id": "GtRdRY4dySXB",
      "execution_count": 27,
      "outputs": [
        {
          "output_type": "stream",
          "name": "stdout",
          "text": [
            "Нельзя отклонить нулевую гипотезу\n",
            "Нельзя отклонить нулевую гипотезу\n",
            " -1.8657,\n",
            " 2.0860,\n",
            " 0.0768,\n",
            " 20\n"
          ]
        }
      ]
    },
    {
      "cell_type": "markdown",
      "source": [
        "**Статистический вывод:**\n",
        "\n",
        "На имеющихся данных, на уровне значимости 5% (уровне доверия 95%) нет оснований отвергнуть нулевую гипотезу в пользу альтернативы.\n",
        "\n",
        "**Содержательный вывод**:\n",
        "\n",
        "Оснований не заменять старую конструкцию схемы на новую не найдено."
      ],
      "metadata": {
        "id": "2BscC4sq7kAi"
      },
      "id": "2BscC4sq7kAi"
    },
    {
      "cell_type": "markdown",
      "id": "46f3a4d3-149d-45c3-bdae-df806e07bae1",
      "metadata": {
        "id": "46f3a4d3-149d-45c3-bdae-df806e07bae1"
      },
      "source": [
        "Задание 5 (про глюкозу)"
      ]
    },
    {
      "cell_type": "markdown",
      "source": [
        "**Шаги для анализа**\n",
        "\n",
        "**Расчет разностей:** Вычислим разности между уровнями глюкозы \"до\" и \"после\" приема препарата.\n",
        "\n",
        "**Проведение парного t-теста:** Сравним среднее значение разностей с нулем с помощью t-теста.\n",
        "\n",
        "**Интерпретация результата:** Сравним p-значение с уровнем значимости 0.05."
      ],
      "metadata": {
        "id": "aSrPbrFH_lDb"
      },
      "id": "aSrPbrFH_lDb"
    },
    {
      "cell_type": "code",
      "source": [
        "import numpy as np\n",
        "from scipy import stats\n",
        "\n",
        "# Данные по уровням глюкозы (до и после препарата)\n",
        "before = np.array([9.6, 8.1, 8.8, 7.9, 9.2, 8.0, 8.4, 10.1, 7.8, 8.1])\n",
        "after = np.array([7.7, 6.2, 7.4, 7.5, 8.3, 6.2, 8.1, 8.9, 7.4, 7.0])\n",
        "\n",
        "# Выполнение парного t-теста\n",
        "t_statistic, p_value = stats.ttest_rel(before, after)\n",
        "\n",
        "# Уровень значимости\n",
        "alpha = 0.05\n",
        "\n",
        "# Проверка гипотезы\n",
        "if p_value < alpha:\n",
        "    conclusion = \"Мы отклоняем нулевую гипотезу: препарат имеет статистически значимый эффект на уровень глюкозы.\"\n",
        "else:\n",
        "    conclusion = \"Мы не отклоняем нулевую гипотезу: нет статистически значимого эффекта от препарата.\"\n",
        "\n",
        "# Вывод результатов\n",
        "print(f\"T-статистика: {t_statistic:.4f}\")\n",
        "print(f\"P-значение: {p_value:.4f}\")\n",
        "print(conclusion)\n"
      ],
      "metadata": {
        "colab": {
          "base_uri": "https://localhost:8080/"
        },
        "id": "50kD5AxkBegw",
        "outputId": "a46d453e-9e66-42e1-ad58-57d1222e1358"
      },
      "id": "50kD5AxkBegw",
      "execution_count": 33,
      "outputs": [
        {
          "output_type": "stream",
          "name": "stdout",
          "text": [
            "T-статистика: 5.7130\n",
            "P-значение: 0.0003\n",
            "Мы отклоняем нулевую гипотезу: препарат имеет статистически значимый эффект на уровень глюкозы.\n"
          ]
        }
      ]
    },
    {
      "cell_type": "markdown",
      "source": [
        "**Статистический вывод**\n",
        "\n",
        "На имеющихся данных, на уровне значимости 5% (уровне доверия 95%) есть основания отвергнуть нулевую гипотезу в пользу альтернативы.\n",
        "\n",
        "Содержательный вывод: проведенные исследования дают основания считать средство эффективным.\n",
        "\n",
        "\n",
        "**Содержательные выводы**\n",
        "\n",
        "Так как p-значение < 0.05, то считается, что препарат имеет статистически значимый эффект на уровень глюкозы. другими словами, средство эффективно."
      ],
      "metadata": {
        "id": "eWHxglDJB_11"
      },
      "id": "eWHxglDJB_11"
    },
    {
      "cell_type": "code",
      "execution_count": null,
      "id": "14596427-0d20-4ffe-8c38-e941fe204a9d",
      "metadata": {
        "id": "14596427-0d20-4ffe-8c38-e941fe204a9d"
      },
      "outputs": [],
      "source": [
        "'''Ваш ответ на задание №5\n",
        "- верно указана применяемая статистика и обоснование ее применения\n",
        "- получено расчетное значение статистики\n",
        "- получено критическое значение статистики\n",
        "- получено значение p_value\n",
        "- сделан статистический вывод на основе сравнения критического значения с расчетным\n",
        "- сделан статистический вывод на основе сравнения p-value и уровня значимости\n",
        "- сделан содержательный вывод по поставленной проблеме'''"
      ]
    },
    {
      "cell_type": "markdown",
      "id": "31d98391-527f-40ec-9212-5765fcec7794",
      "metadata": {
        "id": "31d98391-527f-40ec-9212-5765fcec7794"
      },
      "source": [
        "Задание 6 (про тросы)"
      ]
    },
    {
      "cell_type": "markdown",
      "source": [
        "Мы выбираем двухвыборочный t-тест Уэлча (t-тест для случаев, когда дисперсии не равны) по следующим причинам:\n",
        "\n",
        "Мы сравниваем две независимые группы данных.\n",
        "Указано, что дисперсии в этих группах различаются.\n",
        "Данные представляют собой количественные измерения.\n",
        "Мы предполагаем, что данные нормально распределены."
      ],
      "metadata": {
        "id": "Ftlb6iVrE33t"
      },
      "id": "Ftlb6iVrE33t"
    },
    {
      "cell_type": "code",
      "source": [
        "import numpy as np\n",
        "from scipy import stats\n",
        "\n",
        "# Данные для анализа\n",
        "modern_cable = np.array([92.7, 91.6, 94.7, 93.7, 96.5, 94.3, 93.7, 96.8, 98.9, 99.9])\n",
        "classic_cable = np.array([90.1, 92.2, 94.3, 92.1, 93.4, 91.1, 93.2, 91.5])\n",
        "\n",
        "# Вычисление основных статистиков\n",
        "modern_mean = np.mean(modern_cable)\n",
        "classic_mean = np.mean(classic_cable)\n",
        "modern_std = np.std(modern_cable, ddof=1)\n",
        "classic_std = np.std(classic_cable, ddof=1)\n",
        "\n",
        "# Проведение одностороннего t-теста Уэлча\n",
        "t_statistic, p_val = stats.ttest_ind(modern_cable, classic_cable, equal_var=False)\n",
        "\n",
        "# Приведение p-value к одностороннему\n",
        "p_val_one_sided = p_val / 2  # делим на 2 для правостороннего теста\n",
        "\n",
        "# Вывод статистических показателей\n",
        "print(\"Статистические результаты:\")\n",
        "print(f\"Среднее значение современного кабеля: {modern_mean:.2f}\")\n",
        "print(f\"Среднее значение классического кабеля: {classic_mean:.2f}\")\n",
        "print(f\"Стандартное отклонение современного кабеля: {modern_std:.2f}\")\n",
        "print(f\"Стандартное отклонение классического кабеля: {classic_std:.2f}\")\n",
        "print(f\"\\nРезультаты t-теста:\")\n",
        "print(f\"t-статистика: {t_statistic:.4f}\")\n",
        "print(f\"p-value (односторонний тест): {p_val_one_sided:.4f}\")\n",
        "\n",
        "# Вывод результатов теста\n",
        "print(\"\\nЗаключение:\")\n",
        "if p_val_one_sided < 0.01:\n",
        "    print(\"Рекомендуется замена классического кабеля на современный (имеется статистически значимое улучшение)\")\n",
        "else:\n",
        "    print(\"Нет достаточных оснований для замены кабеля\")\n"
      ],
      "metadata": {
        "colab": {
          "base_uri": "https://localhost:8080/"
        },
        "id": "CteIhFpVEDc6",
        "outputId": "c87c95c1-a947-41d3-bc68-f124550a3d27"
      },
      "id": "CteIhFpVEDc6",
      "execution_count": 35,
      "outputs": [
        {
          "output_type": "stream",
          "name": "stdout",
          "text": [
            "Статистические результаты:\n",
            "Среднее значение современного кабеля: 95.28\n",
            "Среднее значение классического кабеля: 92.24\n",
            "Стандартное отклонение современного кабеля: 2.68\n",
            "Стандартное отклонение классического кабеля: 1.36\n",
            "\n",
            "Результаты t-теста:\n",
            "t-статистика: 3.1204\n",
            "p-value (односторонний тест): 0.0038\n",
            "\n",
            "Заключение:\n",
            "Рекомендуется замена классического кабеля на современный (имеется статистически значимое улучшение)\n"
          ]
        }
      ]
    },
    {
      "cell_type": "markdown",
      "id": "c94b6ae2-c1fd-46b1-9dff-6c067dae6ac9",
      "metadata": {
        "id": "c94b6ae2-c1fd-46b1-9dff-6c067dae6ac9"
      },
      "source": [
        "Задание 7 (про абитуриентов)"
      ]
    },
    {
      "cell_type": "code",
      "source": [
        "import numpy as np\n",
        "from scipy import stats\n",
        "\n",
        "# Исходные данные\n",
        "group1 = np.array([7, 6, 5, 4, 6, 2, 10, 3, 8, 5])\n",
        "group2 = np.array([9, 6, 4, 5, 7, 4, 10, 6, 9, 6])\n",
        "alpha_level = 0.01\n",
        "\n",
        "# Проведение парного t-теста\n",
        "test_result = stats.ttest_rel(group1, group2, alternative='less')\n",
        "\n",
        "# Получение статистики теста\n",
        "t_statistic = test_result.statistic\n",
        "p_value = test_result.pvalue\n",
        "degrees_of_freedom = test_result.df\n",
        "\n",
        "# Вычисляем критическое значение t\n",
        "critical_t_value = stats.t.ppf(1 - alpha_level, df=degrees_of_freedom)\n",
        "\n",
        "# 1. Анализ по критическому значению\n",
        "print(\"Анализ по критическому значению:\")\n",
        "if t_statistic < critical_t_value:  # Для одностороннего теста less\n",
        "    print(\"Отклоняем нулевую гипотезу H₀\")\n",
        "else:\n",
        "    print(\"Нет оснований для отклонения нулевой гипотезы H₀\")\n",
        "\n",
        "# 2. Анализ по p-value\n",
        "print(\"\\nАнализ по p-value:\")\n",
        "if p_value < alpha_level:\n",
        "    print(\"Отклоняем нулевую гипотезу H₀\")\n",
        "else:\n",
        "    print(\"Нет оснований для отклонения нулевой гипотезы H₀\")\n",
        "\n",
        "# Вывод значений t-статистики и p-value\n",
        "print(\"\\nРезультаты теста:\")\n",
        "print(f\"t-статистика: {t_statistic:.4f}\")\n",
        "print(f\"Критическое значение t: {critical_t_value:.4f}\")\n",
        "print(f\"p-значение: {p_value:.4f}\")\n",
        "print(f\"Степени свободы: {degrees_of_freedom}\")\n"
      ],
      "metadata": {
        "colab": {
          "base_uri": "https://localhost:8080/"
        },
        "id": "TyajXH04GgV-",
        "outputId": "77ea5d17-114a-40bf-a48f-1cc19a2f57bc"
      },
      "id": "TyajXH04GgV-",
      "execution_count": 37,
      "outputs": [
        {
          "output_type": "stream",
          "name": "stdout",
          "text": [
            "Анализ по критическому значению:\n",
            "Отклоняем нулевую гипотезу H₀\n",
            "\n",
            "Анализ по p-value:\n",
            "Нет оснований для отклонения нулевой гипотезы H₀\n",
            "\n",
            "Результаты теста:\n",
            "t-статистика: -2.7386\n",
            "Критическое значение t: 2.8214\n",
            "p-значение: 0.0114\n",
            "Степени свободы: 9\n"
          ]
        }
      ]
    },
    {
      "cell_type": "markdown",
      "source": [
        "**Статистический вывод**: на имеющихся данных, на уровне значимости 1% (уровне доверия 99%) нет оснований отвергнуть нулевую гипотезу в пользу альтернативы.\n",
        "\n",
        "**Содержательный вывод:** подтверждения, что подготовительные курсы положительно влияют на результаты абитуриентов, не получено."
      ],
      "metadata": {
        "id": "ml3Kiyo0GuZr"
      },
      "id": "ml3Kiyo0GuZr"
    },
    {
      "cell_type": "markdown",
      "id": "3457d32d-5ce3-4093-bf60-18cdc0d23a79",
      "metadata": {
        "id": "3457d32d-5ce3-4093-bf60-18cdc0d23a79"
      },
      "source": [
        "Задание 8 (про фрукты и IQ)"
      ]
    },
    {
      "cell_type": "code",
      "source": [
        "import numpy as np\n",
        "from scipy import stats\n",
        "\n",
        "# Данные\n",
        "data1 = np.array([125, 138, 112, 130, 124, 125, 110, 112, 117, 126])\n",
        "data2 = np.array([124, 102, 142, 130, 131, 124, 127, 115, 108, 109])\n",
        "alpha_level = 0.05\n",
        "sample_size = len(data1)\n",
        "\n",
        "# Вычисление выборочных дисперсий\n",
        "variance1 = data1.var(ddof=1)\n",
        "variance2 = data2.var(ddof=1)\n",
        "\n",
        "print(f'Выборочная дисперсия S1: {variance1:.2f}, S2: {variance2:.2f}')\n",
        "\n",
        "# Вычисление F-статистики\n",
        "F_statistic = max(variance1, variance2) / min(variance1, variance2)\n",
        "print(f'F-статистика: {F_statistic:.4f}')\n",
        "\n",
        "# Поиск критического значения F\n",
        "F_critical = stats.f.ppf(1 - alpha_level, dfn=sample_size - 1, dfd=sample_size - 1)\n",
        "print(f'Критическое значение F: {F_critical:.4f}')\n",
        "\n",
        "# Принятие решения на основе критического значения\n",
        "if F_statistic > F_critical:\n",
        "    print(\"Отклоняем нулевую гипотезу о равенстве дисперсий\")\n",
        "else:\n",
        "    print(\"Нет оснований для отклонения нулевой гипотезы о равенстве дисперсий\")\n"
      ],
      "metadata": {
        "colab": {
          "base_uri": "https://localhost:8080/"
        },
        "id": "Quo5RkwZIFje",
        "outputId": "69d60bbd-abdb-4135-c936-78c98cf94f1d"
      },
      "id": "Quo5RkwZIFje",
      "execution_count": 38,
      "outputs": [
        {
          "output_type": "stream",
          "name": "stdout",
          "text": [
            "Выборочная дисперсия S1: 80.77, S2: 153.96\n",
            "F-статистика: 1.9062\n",
            "Критическое значение F: 3.1789\n",
            "Нет оснований для отклонения нулевой гипотезы о равенстве дисперсий\n"
          ]
        }
      ]
    },
    {
      "cell_type": "code",
      "execution_count": null,
      "id": "a2fa0ca3-f86e-4ce4-9051-3d07abdceeb6",
      "metadata": {
        "id": "a2fa0ca3-f86e-4ce4-9051-3d07abdceeb6"
      },
      "outputs": [],
      "source": [
        "'''Ваш ответ на задание №8\n",
        "- верно указана применяемая статистика и обоснование ее применения\n",
        "- получено расчетное значение статистики\n",
        "- получено критическое значение статистики\n",
        "- получено значение p_value\n",
        "- сделан статистический вывод на основе сравнения критического значения с расчетным\n",
        "- сделан статистический вывод на основе сравнения p-value и уровня значимости\n",
        "- сделан содержательный вывод по поставленной проблеме'''"
      ]
    },
    {
      "cell_type": "markdown",
      "source": [
        "**Статистический вывод**: на имеющихся данных, на уровне значимости 5% (уровне доверия 95%) нет оснований отвергнуть нулевую гипотезу в пользу альтернативы.\n",
        "\n",
        "**Содержательный вывод:** подтверждения, что дисперсии двух групп отличаются, не получено."
      ],
      "metadata": {
        "id": "BkmPVJkQIK7y"
      },
      "id": "BkmPVJkQIK7y"
    },
    {
      "cell_type": "markdown",
      "id": "7f6c4b09-ad80-4c83-82fb-472272cef69d",
      "metadata": {
        "id": "7f6c4b09-ad80-4c83-82fb-472272cef69d"
      },
      "source": [
        "Задание 9 (про самолеты)"
      ]
    },
    {
      "cell_type": "code",
      "source": [
        "import numpy as np\n",
        "from scipy import stats\n",
        "\n",
        "# Наблюдаемые данные о вылетах и количестве успешных попыток\n",
        "X = np.array([1, 2, 3, 4, 5, 6, 7, 8, 9])\n",
        "Y = np.array([36, 23, 11, 13, 8, 3, 2, 1, 3])\n",
        "alpha = 0.05\n",
        "\n",
        "# Сумма наблюдений\n",
        "n = Y.sum()\n",
        "print(f'Сумма наблюдений (n): {n}')\n",
        "\n",
        "# Оценочная вероятность\n",
        "p_curr = n / np.dot(X, Y)\n",
        "print(f'Оценочная вероятность (p): {p_curr:.4f}')\n",
        "\n",
        "# Вычисление ожидаемых значений\n",
        "Y_p = np.zeros(len(Y))\n",
        "for i in range(len(Y)):\n",
        "    Y_p[i] = stats.geom.pmf(X[i], p_curr) * n\n",
        "\n",
        "# Коррекция для соблюдения условия суммы\n",
        "dev = (n - Y_p.sum()) / len(Y)\n",
        "Y_p += dev\n",
        "\n",
        "# Тест Хи-квадрат\n",
        "chi2_score, p_value = stats.chisquare(Y, Y_p, ddof=1)\n",
        "\n",
        "print(f'Chi-squared statistic: {chi2_score:.4f}, p-value: {p_value:.4f}')\n",
        "\n",
        "# Степени свободы\n",
        "nu = Y.shape[0] - 1 - 1  # k - 1 - m, где k - количество категорий, m - количество параметров\n",
        "print(f'Степени свободы (nu): {nu}')\n",
        "\n",
        "# Критическое значение для теста\n",
        "chi2_critical = stats.chi2.ppf(1 - alpha, df=nu)\n",
        "print(f'Критическое значение Хи-квадрат: {chi2_critical:.4f}')\n",
        "\n",
        "# Решение на основе критического значения\n",
        "if chi2_score > chi2_critical:\n",
        "    print(\"Отклонить нулевую гипотезу о соответствии распределений\")\n",
        "else:\n",
        "    print(\"Нет оснований для отклонения нулевой гипотезы\")\n",
        "\n",
        "# Решение на основе p-значения\n",
        "if p_value < alpha:\n",
        "    print(\"Отклонить нулевую гипотезу о соответствии распределений\")\n",
        "else:\n",
        "    print(\"Нет оснований для отклонения нулевой гипотезы\")\n"
      ],
      "metadata": {
        "colab": {
          "base_uri": "https://localhost:8080/"
        },
        "id": "lDKPCRvkI_QN",
        "outputId": "63885fb3-fa3b-4bf9-e0c2-b6939ceaf15b"
      },
      "id": "lDKPCRvkI_QN",
      "execution_count": 39,
      "outputs": [
        {
          "output_type": "stream",
          "name": "stdout",
          "text": [
            "Сумма наблюдений (n): 100\n",
            "Оценочная вероятность (p): 0.3650\n",
            "Chi-squared statistic: 6.4975, p-value: 0.4830\n",
            "Степени свободы (nu): 7\n",
            "Критическое значение Хи-квадрат: 14.0671\n",
            "Нет оснований для отклонения нулевой гипотезы\n",
            "Нет оснований для отклонения нулевой гипотезы\n"
          ]
        }
      ]
    },
    {
      "cell_type": "markdown",
      "source": [
        "**Статистический вывод:** на имеющихся данных, на уровне значимости 5% (уровне доверия 95%) нет оснований отвергнуть нулевую гипотезу в пользу альтернативы.\n",
        "\n",
        "**Содержательный вывод:** нет оснований считать, что данные распределены не геометрически."
      ],
      "metadata": {
        "id": "qI8qWhfaJLEa"
      },
      "id": "qI8qWhfaJLEa"
    },
    {
      "cell_type": "code",
      "execution_count": null,
      "id": "d6f044c5-bd38-45a4-a7b8-574bc448650d",
      "metadata": {
        "id": "d6f044c5-bd38-45a4-a7b8-574bc448650d"
      },
      "outputs": [],
      "source": [
        "'''Ваш ответ на задание №9\n",
        "- верно указана применяемая статистика и обоснование ее применения\n",
        "- получено расчетное значение статистики\n",
        "- получено критическое значение статистики\n",
        "- получено значение p_value\n",
        "- сделан статистический вывод на основе сравнения критического значения с расчетным\n",
        "- сделан статистический вывод на основе сравнения p-value и уровня значимости\n",
        "- сделан содержательный вывод по поставленной проблеме'''"
      ]
    },
    {
      "cell_type": "markdown",
      "id": "683c7734-8ec4-47f3-a4f9-97a18d46ad53",
      "metadata": {
        "id": "683c7734-8ec4-47f3-a4f9-97a18d46ad53"
      },
      "source": [
        "Задание 10 (про цвет глаз и волос)"
      ]
    },
    {
      "cell_type": "code",
      "source": [
        "import numpy as np\n",
        "from scipy import stats\n",
        "\n",
        "# Определение таблицы контингентности\n",
        "contingency_table = np.array([[35, 52, 13],\n",
        "                               [28, 42, 10],\n",
        "                               [7, 10, 3]])\n",
        "\n",
        "# Проведение теста Хи-квадрат\n",
        "chi2_statistic, p_value, _, _ = stats.chi2_contingency(contingency_table)\n",
        "\n",
        "# Вычисление степеней свободы\n",
        "degrees_of_freedom = (contingency_table.shape[0] - 1) * (contingency_table.shape[1] - 1)\n",
        "alpha_level = 0.05\n",
        "\n",
        "# Определение критического значения Хи-квадрат\n",
        "chi2_critical_value = stats.chi2.ppf(1 - alpha_level, df=degrees_of_freedom)\n",
        "\n",
        "# Вывод значений статистики и критического значения\n",
        "print(f\"Значение статистики Хи-квадрат: {chi2_statistic:.4f}\")\n",
        "print(f\"Критическое значение Хи-квадрат: {chi2_critical_value:.4f}\")\n",
        "\n",
        "# Принятие решения на основе критического значения\n",
        "if chi2_statistic > chi2_critical_value:\n",
        "    print(\"Решение: Отклоняем нулевую гипотезу.\")\n",
        "else:\n",
        "    print(\"Решение: Нельзя отклонить нулевую гипотезу.\")\n",
        "\n",
        "# Вывод p-значения\n",
        "print(f\"p-значение: {p_value:.4f}\")\n",
        "\n",
        "# Принятие решения на основе p-значения\n",
        "if p_value < alpha_level:\n",
        "    print(\"Решение: Отклоняем нулевую гипотезу на основе p-значения.\")\n",
        "else:\n",
        "    print(\"Решение: Нельзя отклонить нулевую гипотезу на основе p-значения.\")\n"
      ],
      "metadata": {
        "colab": {
          "base_uri": "https://localhost:8080/"
        },
        "id": "rFU1eKadKUtP",
        "outputId": "43d1462c-ac65-43e0-c2a9-ce88a6b6daba"
      },
      "id": "rFU1eKadKUtP",
      "execution_count": 40,
      "outputs": [
        {
          "output_type": "stream",
          "name": "stdout",
          "text": [
            "Значение статистики Хи-квадрат: 0.0962\n",
            "Критическое значение Хи-квадрат: 9.4877\n",
            "Решение: Нельзя отклонить нулевую гипотезу.\n",
            "p-значение: 0.9989\n",
            "Решение: Нельзя отклонить нулевую гипотезу на основе p-значения.\n"
          ]
        }
      ]
    },
    {
      "cell_type": "markdown",
      "source": [
        "**Статистический вывод**: на имеющихся данных, на уровне значимости 5% (уровне доверия 95%) нет оснований отвергнуть нулевую гипотезу в пользу альтернативы.\n",
        "\n",
        "**Содержательный вывод:** нет оснований считать, что существует связь между цветом волос и цветом глаз."
      ],
      "metadata": {
        "id": "jTt6MYTDKano"
      },
      "id": "jTt6MYTDKano"
    },
    {
      "cell_type": "markdown",
      "id": "181ab8f2-c071-4803-ad2e-3f10813f0c6a",
      "metadata": {
        "id": "181ab8f2-c071-4803-ad2e-3f10813f0c6a"
      },
      "source": [
        "Задание 11 (про тигров)"
      ]
    },
    {
      "cell_type": "markdown",
      "source": [
        "**Цель исследования**\n",
        "\n",
        "Задача заключается в сравнении четырех групп тигров в зависимости от типа корма, чтобы проанализировать, как этот фактор влияет на их вес. В этом случае уместно использовать однофакторный ANOVA.\n",
        "\n",
        "**Гипотезы**\n",
        "\n",
        "**Нулевая гипотеза (H0)**: Средние веса тигров в каждой из четырех групп, получающих разные корма, одинаковы.\n",
        "\n",
        "**Альтернативная гипотеза (H1)**: Существуют различия в среднем весе тигров в зависимости от"
      ],
      "metadata": {
        "id": "XQYaXK5DC_qS"
      },
      "id": "XQYaXK5DC_qS"
    },
    {
      "cell_type": "code",
      "source": [
        "X1 = np.array([151, 135, 137, 118, 132, 135, 131, 121, 137, 140, 152, 133, 151, 132])\n",
        "X2 = np.array([108, 123, 145, 103, 110, 124, 116, 108, 104, 130, 106, 105, 114, 108])\n",
        "X3 = np.array([140, 152, 149, 132, 124, 146, 156, 137, 124, 145, 147, 139, 157, 139])\n",
        "X4 = np.array([127, 135, 110, 116, 119, 123, 102, 121, 118, 120, 114, 134, 121, 109])\n",
        "res = stats.f_oneway(X1, X2, X3, X4)\n",
        "alpha = 0.05\n",
        "if res.pvalue < alpha:\n",
        "    print(\"Отклонить нулевую гипотезу\")\n",
        "else:\n",
        "    print(\"Нельзя отклонить нулевую гипотезу\")\n"
      ],
      "metadata": {
        "colab": {
          "base_uri": "https://localhost:8080/"
        },
        "id": "46598dRQDVOo",
        "outputId": "6b050d2b-2df8-40d4-f63d-83f2db2162bb"
      },
      "id": "46598dRQDVOo",
      "execution_count": 2,
      "outputs": [
        {
          "output_type": "stream",
          "name": "stdout",
          "text": [
            "Отклонить нулевую гипотезу\n"
          ]
        }
      ]
    },
    {
      "cell_type": "markdown",
      "source": [
        "Результаты показывают, что нулевая гипотеза была отклонена. Это указывает на наличие статистически значимых различий в весе тигров в зависимости от типа корма на уровне значимости 5% (доверительный уровень 95%)."
      ],
      "metadata": {
        "id": "_ZEnWCLKDZ1S"
      },
      "id": "_ZEnWCLKDZ1S"
    },
    {
      "cell_type": "markdown",
      "source": [
        "Поскольку ANOVA показал значимость, был применен тест Тьюки для более детального анализа различий между группами:"
      ],
      "metadata": {
        "id": "HE2obPnYDfV7"
      },
      "id": "HE2obPnYDfV7"
    },
    {
      "cell_type": "code",
      "source": [
        "t_res = stats.tukey_hsd(X1, X2, X3, X4)\n",
        "print(t_res)\n"
      ],
      "metadata": {
        "colab": {
          "base_uri": "https://localhost:8080/"
        },
        "id": "QWYzDIg7DjDk",
        "outputId": "2ecbd100-235a-45a8-c6d0-64ef8849c532"
      },
      "id": "QWYzDIg7DjDk",
      "execution_count": 3,
      "outputs": [
        {
          "output_type": "stream",
          "name": "stdout",
          "text": [
            "Tukey's HSD Pairwise Group Comparisons (95.0% Confidence Interval)\n",
            "Comparison  Statistic  p-value  Lower CI  Upper CI\n",
            " (0 - 1)     21.500     0.000    10.981    32.019\n",
            " (0 - 2)     -5.857     0.458   -16.376     4.662\n",
            " (0 - 3)     16.857     0.000     6.338    27.376\n",
            " (1 - 0)    -21.500     0.000   -32.019   -10.981\n",
            " (1 - 2)    -27.357     0.000   -37.876   -16.838\n",
            " (1 - 3)     -4.643     0.647   -15.162     5.876\n",
            " (2 - 0)      5.857     0.458    -4.662    16.376\n",
            " (2 - 1)     27.357     0.000    16.838    37.876\n",
            " (2 - 3)     22.714     0.000    12.195    33.233\n",
            " (3 - 0)    -16.857     0.000   -27.376    -6.338\n",
            " (3 - 1)      4.643     0.647    -5.876    15.162\n",
            " (3 - 2)    -22.714     0.000   -33.233   -12.195\n",
            "\n"
          ]
        }
      ]
    },
    {
      "cell_type": "markdown",
      "source": [
        "**выводы**\n",
        "\n",
        "Тест Тьюки показал, что на уровне доверия 95% значимых различий между средними весами тигров, получавших корма 1 и 3, а также 2 и 4, нет. Однако для остальных сочетаний групп выявлены значительные различия в весе."
      ],
      "metadata": {
        "id": "sh8fCXyQDuxi"
      },
      "id": "sh8fCXyQDuxi"
    },
    {
      "cell_type": "markdown",
      "id": "2e2b26c8-37a6-41dc-82c5-20e35e44aee0",
      "metadata": {
        "id": "2e2b26c8-37a6-41dc-82c5-20e35e44aee0"
      },
      "source": [
        "Задание 12 (про белок)"
      ]
    },
    {
      "cell_type": "code",
      "source": [
        "import pandas as pd\n",
        "import statsmodels.api as sm\n",
        "from statsmodels.formula.api import ols\n",
        "\n",
        "# Установим формат вывода для pandas\n",
        "pd.options.display.float_format = '{:.3f}'.format\n",
        "\n",
        "# Создадим словарь с данными\n",
        "data = {\n",
        "    'has_brood': [0]*14 + [1]*16,\n",
        "    'age': [1]*5 + [2]*5 + [3]*5 + [1]*5 + [2]*5 + [3]*5,\n",
        "    'weight': [440, 438, 429, 502, 602,\n",
        "               892, 868, 855, 866, 932,\n",
        "               1575, 849, 759, 1602, 1327,\n",
        "               308, 328, 326, 326, 325,\n",
        "               737, 798, 876, 810, 861,\n",
        "               1001, 901, 958, 1032, 883]\n",
        "}\n",
        "\n",
        "# Преобразуем данные в DataFrame\n",
        "df = pd.DataFrame(data)\n",
        "\n",
        "# Определим модель с помощью OLS\n",
        "formula = 'weight ~ has_brood + age + has_brood:age'\n",
        "model = ols(formula, data=df).fit()\n",
        "\n",
        "# Выполним ANOVA для оценки влияния факторов\n",
        "anova_results = sm.stats.anova_lm(model, typ=1)\n",
        "\n",
        "# Выведем результаты\n",
        "print(anova_results)\n"
      ],
      "metadata": {
        "colab": {
          "base_uri": "https://localhost:8080/"
        },
        "id": "WW39co4LEGq5",
        "outputId": "a157a287-9f1e-42db-c314-a880c8e6e29d"
      },
      "id": "WW39co4LEGq5",
      "execution_count": 4,
      "outputs": [
        {
          "output_type": "stream",
          "name": "stdout",
          "text": [
            "                  df      sum_sq     mean_sq      F  PR(>F)\n",
            "has_brood      1.000   63063.005   63063.005  1.888   0.181\n",
            "age            1.000 2434837.659 2434837.659 72.881   0.000\n",
            "has_brood:age  1.000    1219.187    1219.187  0.036   0.850\n",
            "Residual      26.000  868618.949   33408.421    NaN     NaN\n"
          ]
        }
      ]
    },
    {
      "cell_type": "markdown",
      "source": [
        "**Статистический вывод:**\n",
        "\n",
        "На основе проведенного анализа, с использованием уровня значимости 5% (доверительный уровень 95%), можно сделать вывод о том, что имеется достаточное основание для отклонения нулевой гипотезы в пользу альтернативной.\n",
        "\n",
        "**Содержательный вывод:**\n",
        "\n",
        "Результаты исследования свидетельствуют о том, что наличие выводка и возраст белок имеют значительное влияние на их массу тела. В то же время, взаимодействие этих двух факторов не продемонстрировало статистической значимости."
      ],
      "metadata": {
        "id": "rpmsdLV2EbrQ"
      },
      "id": "rpmsdLV2EbrQ"
    },
    {
      "cell_type": "code",
      "execution_count": null,
      "id": "f86f1f46-31d1-4529-a3b7-a196dc2a3048",
      "metadata": {
        "id": "f86f1f46-31d1-4529-a3b7-a196dc2a3048"
      },
      "outputs": [],
      "source": [
        "'''Ваш ответ на задание №12\n",
        "- верно указана применяемая статистика и обоснование ее применения\n",
        "- расчет выполнен через последовательные суммы квадратов\n",
        "- получены расчетные значения статистики\n",
        "- получены значения p_value\n",
        "- сделан статистический вывод на основе сравнения p-value и уровня значимости\n",
        "- сделан содержательный вывод по поставленной проблеме'''"
      ]
    }
  ],
  "metadata": {
    "kernelspec": {
      "display_name": "Python 3 (ipykernel)",
      "language": "python",
      "name": "python3"
    },
    "language_info": {
      "codemirror_mode": {
        "name": "ipython",
        "version": 3
      },
      "file_extension": ".py",
      "mimetype": "text/x-python",
      "name": "python",
      "nbconvert_exporter": "python",
      "pygments_lexer": "ipython3",
      "version": "3.12.4"
    },
    "colab": {
      "provenance": [],
      "include_colab_link": true
    }
  },
  "nbformat": 4,
  "nbformat_minor": 5
}