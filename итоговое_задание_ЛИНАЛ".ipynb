{
  "nbformat": 4,
  "nbformat_minor": 0,
  "metadata": {
    "colab": {
      "provenance": [],
      "include_colab_link": true
    },
    "kernelspec": {
      "name": "python3",
      "display_name": "Python 3"
    },
    "language_info": {
      "name": "python"
    }
  },
  "cells": [
    {
      "cell_type": "markdown",
      "metadata": {
        "id": "view-in-github",
        "colab_type": "text"
      },
      "source": [
        "<a href=\"https://colab.research.google.com/github/Ysagi2000/skillfactory/blob/main/%D0%B8%D1%82%D0%BE%D0%B3%D0%BE%D0%B2%D0%BE%D0%B5_%D0%B7%D0%B0%D0%B4%D0%B0%D0%BD%D0%B8%D0%B5_%D0%9B%D0%98%D0%9D%D0%90%D0%9B%22.ipynb\" target=\"_parent\"><img src=\"https://colab.research.google.com/assets/colab-badge.svg\" alt=\"Open In Colab\"/></a>"
      ]
    },
    {
      "cell_type": "code",
      "source": [
        "import numpy as np\n",
        "import pandas as pd"
      ],
      "metadata": {
        "id": "c8fLxPkgD86S"
      },
      "execution_count": 1,
      "outputs": []
    },
    {
      "cell_type": "markdown",
      "source": [
        "# Задание 1"
      ],
      "metadata": {
        "id": "DQQFfNTLJ20S"
      }
    },
    {
      "cell_type": "code",
      "execution_count": 16,
      "metadata": {
        "id": "XqAzbM6WJyE2",
        "colab": {
          "base_uri": "https://localhost:8080/"
        },
        "outputId": "4077c333-2dac-42d9-c4b7-f1efd0df1852"
      },
      "outputs": [
        {
          "output_type": "stream",
          "name": "stdout",
          "text": [
            "(A*B)*C\n"
          ]
        }
      ],
      "source": [
        "def multiplication_order(A, B, C):\n",
        "    # Получаем размерности матриц\n",
        "    rows_A, cols_A = len(A), len(A[0])  # Размеры матрицы A\n",
        "    rows_B, cols_B = len(B), len(B[0])  # Размеры матрицы B\n",
        "    rows_C, cols_C = len(C), len(C[0])  # Размеры матрицы C\n",
        "\n",
        "    # Расчёт количества умножений для порядка (A*B)*C\n",
        "    cost_A_B = rows_A * cols_A * cols_B    # Умножение A на B\n",
        "    total_left = cost_A_B + (rows_A * cols_B * cols_C)  # Итоговое умножение (AB)*C\n",
        "\n",
        "    # Расчёт количества умножений для порядка A*(B*C)\n",
        "    cost_B_C = rows_B * cols_B * cols_C    # Умножение B на C\n",
        "    total_right = cost_B_C + (rows_A * cols_A * cols_C)  # Итоговое умножение A*(BC)\n",
        "\n",
        "    # Возвращаем наиболее эффективный порядок умножения\n",
        "    if total_left <= total_right:\n",
        "        return \"(A*B)*C\"\n",
        "    else:\n",
        "        return \"A*(B*C)\"\n",
        "\n",
        "# Проверка на тестовых данных\n",
        "A = [[1, 2]]\n",
        "B = [[2], [1]]\n",
        "C = [[5]]\n",
        "print(multiplication_order(A, B, C))\n"
      ]
    },
    {
      "cell_type": "markdown",
      "source": [
        "# Задание 2\n"
      ],
      "metadata": {
        "id": "vQvUEt_KKShX"
      }
    },
    {
      "cell_type": "code",
      "source": [
        "def best_worst(X, Y):\n",
        "    # Вычисляем матрицу корреляций между признаками X и ценами Y\n",
        "    # Получаем корреляции, беря последнюю строку, и убираем последний элемент (равный 1)\n",
        "    correlation_coeffs = np.corrcoef(X.T, Y.T)[-1, :-1]\n",
        "\n",
        "    # Находим индексы максимального и минимального значений корреляции по абсолютному значению\n",
        "    max_corr_index = np.argmax(np.abs(correlation_coeffs))\n",
        "    min_corr_index = np.argmin(np.abs(correlation_coeffs))\n",
        "\n",
        "    return max_corr_index, min_corr_index\n",
        "\n",
        "# Тестируем на данных\n",
        "data = np.array([\n",
        "    [3, 51, 3, 0, 1, 0, 2200],\n",
        "    [1, 30, 1, 0, 1, 0, 1600],\n",
        "    [2, 45, 2, 0, 1, 0, 1900],\n",
        "    [3, 55, 1, 0, 1, 0, 2000],\n",
        "    [1, 45, 3, 1, 0, 0, 4500],\n",
        "    [3, 100, 3, 1, 0, 0, 7000],\n",
        "    [2, 71, 2, 1, 0, 0, 5000],\n",
        "    [1, 31, 2, 0, 0, 1, 1700],\n",
        "    [3, 53, 5, 0, 0, 1, 2100],\n",
        "    [1, 33, 3, 0, 0, 1, 1500],\n",
        "    [2, 43, 5, 0, 0, 1, 2000],\n",
        "])\n",
        "df = pd.DataFrame(data=data, columns=['Комнаты', 'Площадь', 'Этаж', 'Центр?', 'Спальный1?', 'Спальный 2?', 'Цена'])\n",
        "\n",
        "X = df[['Комнаты', 'Площадь', 'Этаж', 'Центр?', 'Спальный1?', 'Спальный 2?']]\n",
        "y = df[['Цена']]\n",
        "\n",
        "best_worst(X, y)\n"
      ],
      "metadata": {
        "id": "TMJq9ob2KYBY",
        "colab": {
          "base_uri": "https://localhost:8080/"
        },
        "outputId": "c165c4f9-8a28-4345-a6f0-2be32c000d20"
      },
      "execution_count": 11,
      "outputs": [
        {
          "output_type": "execute_result",
          "data": {
            "text/plain": [
              "(3, 2)"
            ]
          },
          "metadata": {},
          "execution_count": 11
        }
      ]
    },
    {
      "cell_type": "markdown",
      "source": [
        "#Задание 3\n"
      ],
      "metadata": {
        "id": "hindpJMCKhB8"
      }
    },
    {
      "cell_type": "code",
      "source": [
        "def corr_rank(X):\n",
        "    # Вычисляем матрицу корреляций\n",
        "    correlation_matrix = np.corrcoef(X)\n",
        "    # Возвращаем ранг матрицы корреляций\n",
        "    return np.linalg.matrix_rank(correlation_matrix)\n",
        "\n",
        "corr_rank(X)"
      ],
      "metadata": {
        "id": "-YLajcsEKkuQ",
        "colab": {
          "base_uri": "https://localhost:8080/"
        },
        "outputId": "f627ad12-dbca-4bff-9c0e-45343ad23904"
      },
      "execution_count": 10,
      "outputs": [
        {
          "output_type": "execute_result",
          "data": {
            "text/plain": [
              "5"
            ]
          },
          "metadata": {},
          "execution_count": 10
        }
      ]
    },
    {
      "cell_type": "markdown",
      "source": [
        "# Задание 4"
      ],
      "metadata": {
        "id": "tKweU9DCKk-f"
      }
    },
    {
      "cell_type": "code",
      "source": [
        "def inverse_matrix(A):\n",
        "    det_A = np.linalg.det(A)\n",
        "    if np.abs(det_A) < 0.001:\n",
        "        return None\n",
        "    return np.linalg.inv(A)\n",
        "\n",
        "A = np.array([[1, 2], [2, 1]])\n",
        "\n",
        "print(inverse_matrix(A))\n"
      ],
      "metadata": {
        "id": "pi2fjbkjKmzi",
        "colab": {
          "base_uri": "https://localhost:8080/"
        },
        "outputId": "0868fcaf-3cfe-4c3b-a959-8741c2ee20a0"
      },
      "execution_count": 9,
      "outputs": [
        {
          "output_type": "stream",
          "name": "stdout",
          "text": [
            "[[-0.33333333  0.66666667]\n",
            " [ 0.66666667 -0.33333333]]\n"
          ]
        }
      ]
    },
    {
      "cell_type": "markdown",
      "source": [
        "# Задание 5"
      ],
      "metadata": {
        "id": "pnIqMUVsKnTq"
      }
    },
    {
      "cell_type": "code",
      "source": [
        "def fit_model(X, y):\n",
        "    XtX_inv = inverse_matrix(X.T @ X)\n",
        "    XtY = X.T @ y\n",
        "    return (XtX_inv @ XtY).to_numpy()\n",
        "\n",
        "print(fit_model(X, y))\n"
      ],
      "metadata": {
        "id": "g34wFIBuKpmL",
        "colab": {
          "base_uri": "https://localhost:8080/"
        },
        "outputId": "45c55406-594e-4e94-d9d7-8a3a305af7a8"
      },
      "execution_count": 8,
      "outputs": [
        {
          "output_type": "stream",
          "name": "stdout",
          "text": [
            "[[-574.12295766]\n",
            " [  65.33255763]\n",
            " [ 141.80223878]\n",
            " [1566.16246224]\n",
            " [  12.32450391]\n",
            " [-315.34552489]]\n"
          ]
        }
      ]
    }
  ]
}